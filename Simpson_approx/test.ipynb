{
 "cells": [
  {
   "cell_type": "code",
   "execution_count": 1,
   "metadata": {},
   "outputs": [],
   "source": [
    "import requests\n",
    "import json\n",
    "import math\n"
   ]
  },
  {
   "cell_type": "code",
   "execution_count": 16,
   "metadata": {},
   "outputs": [],
   "source": [
    "def check():\n",
    "    url = \"https://www.wolframcloud.com/obj/b1ac109a-0322-4245-97d8-5a0eae714f26?f=e^(-x)/Sqrt[x]&llim=0&rlim=infty\"\n",
    "    ans = requests.get(url).json()\n",
    "    if ans[\"Success\"] == True:\n",
    "        return True, ans[\"Result\"]\n",
    "    if ans[\"Success\"] == False:\n",
    "        return False, ans[\"Messages\"][0]"
   ]
  },
  {
   "cell_type": "code",
   "execution_count": 17,
   "metadata": {},
   "outputs": [
    {
     "data": {
      "text/plain": [
       "(True,\n",
       " '(Sqrt[Pi]*(Erf[Sqrt[infty]*Sqrt[I*k + Log[e]]]*((-I)*k + Log[e])*Sqrt[I*k + Log[e]] + Erf[Sqrt[infty]*Sqrt[(-I)*k + Log[e]]]*Sqrt[(-I)*k + Log[e]]*(I*k + Log[e])))/(2*(k^2 + Log[e]^2))')"
      ]
     },
     "execution_count": 17,
     "metadata": {},
     "output_type": "execute_result"
    }
   ],
   "source": [
    "check()"
   ]
  },
  {
   "cell_type": "code",
   "execution_count": 10,
   "metadata": {},
   "outputs": [],
   "source": [
    "import wolframparser\n",
    "parser = wolframparser.Parser()\n",
    "\n",
    "o = parser.convert_to_python_expression(check()[1])"
   ]
  },
  {
   "cell_type": "code",
   "execution_count": 11,
   "metadata": {},
   "outputs": [
    {
     "name": "stdout",
     "output_type": "stream",
     "text": [
      "(math.exp**math.pi*(-k**2 + math.log(math.exp)**2) - math.cos(k*math.pi)*(-k**2 + k**2*math.pi*math.log(math.exp) + math.log(math.exp)**2 + math.pi*math.log(math.exp)**3) + k*(k**2*math.pi + 2*math.log(math.exp) + math.pi*math.log(math.exp)**2)*math.sin(k*math.pi))/(math.exp**math.pi*sqrt*(k**2 + math.log(math.exp)**2)**2)\n"
     ]
    }
   ],
   "source": [
    "import math\n",
    "print(o)"
   ]
  },
  {
   "cell_type": "code",
   "execution_count": 6,
   "metadata": {},
   "outputs": [],
   "source": [
    "f = lambda k: eval(o)"
   ]
  },
  {
   "cell_type": "code",
   "execution_count": 7,
   "metadata": {},
   "outputs": [
    {
     "ename": "TypeError",
     "evalue": "must be real number, not builtin_function_or_method",
     "output_type": "error",
     "traceback": [
      "\u001b[1;31m---------------------------------------------------------------------------\u001b[0m",
      "\u001b[1;31mTypeError\u001b[0m                                 Traceback (most recent call last)",
      "\u001b[1;32mc:\\Users\\adozz\\Documents\\Wolfram\\Simpson_approx\\test.ipynb Cell 7\u001b[0m in \u001b[0;36m<cell line: 1>\u001b[1;34m()\u001b[0m\n\u001b[1;32m----> <a href='vscode-notebook-cell:/c%3A/Users/adozz/Documents/Wolfram/Simpson_approx/test.ipynb#X12sZmlsZQ%3D%3D?line=0'>1</a>\u001b[0m \u001b[39mprint\u001b[39m(f(\u001b[39m1\u001b[39;49m))\n",
      "\u001b[1;32mc:\\Users\\adozz\\Documents\\Wolfram\\Simpson_approx\\test.ipynb Cell 7\u001b[0m in \u001b[0;36m<lambda>\u001b[1;34m(k)\u001b[0m\n\u001b[1;32m----> <a href='vscode-notebook-cell:/c%3A/Users/adozz/Documents/Wolfram/Simpson_approx/test.ipynb#X12sZmlsZQ%3D%3D?line=0'>1</a>\u001b[0m f \u001b[39m=\u001b[39m \u001b[39mlambda\u001b[39;00m k: \u001b[39meval\u001b[39;49m(o)\n",
      "File \u001b[1;32m<string>:1\u001b[0m, in \u001b[0;36m<module>\u001b[1;34m\u001b[0m\n",
      "\u001b[1;31mTypeError\u001b[0m: must be real number, not builtin_function_or_method"
     ]
    }
   ],
   "source": [
    "print(f(1))"
   ]
  },
  {
   "cell_type": "code",
   "execution_count": 36,
   "metadata": {},
   "outputs": [],
   "source": [
    "change_dict = {\n",
    "    \"^\" : \"**\",\n",
    "    \"[\" : \"(\",\n",
    "    \"]\" : \")\",\n",
    "    \"Cos\": \"math.cos\",\n",
    "    \"Sin\": \"math.sin\",\n",
    "    \"Pi\" : \"math.pi\",\n",
    "}\n",
    "\n",
    "def output_parser(output: str):\n",
    "    for elem in change_dict:\n",
    "        output = output.replace(elem, change_dict[elem])\n",
    "    return output"
   ]
  },
  {
   "cell_type": "code",
   "execution_count": 37,
   "metadata": {},
   "outputs": [
    {
     "data": {
      "text/plain": [
       "'(-1 + math.cos(k*math.pi) + k*math.pi*math.sin(k*math.pi))/k**2'"
      ]
     },
     "execution_count": 37,
     "metadata": {},
     "output_type": "execute_result"
    }
   ],
   "source": [
    "output_parser(ans)"
   ]
  },
  {
   "cell_type": "code",
   "execution_count": 38,
   "metadata": {},
   "outputs": [],
   "source": [
    "f = lambda k: eval(output_parser(ans))"
   ]
  },
  {
   "cell_type": "code",
   "execution_count": 39,
   "metadata": {},
   "outputs": [
    {
     "name": "stdout",
     "output_type": "stream",
     "text": [
      "-1.9999999999999996\n"
     ]
    }
   ],
   "source": [
    "print(f(1))"
   ]
  },
  {
   "cell_type": "code",
   "execution_count": 20,
   "metadata": {},
   "outputs": [],
   "source": [
    "input_symbols = {\n",
    "    \"inf\" : \"Infinity\",\n",
    "    \"pi\" : \"Pi\",\n",
    "    \"sin\": \"Sin\",\n",
    "    \"cos\": \"Cos\",\n",
    "    \"ln\": \"Ln\",\n",
    "    \"sqrt\": \"Sqrt\",\n",
    "\n",
    "}\n",
    "\n",
    "\n",
    "def convert_to_wolfram_expression(input: str) -> str:\n",
    "        for elem in input_symbols:\n",
    "            input = input.replace(elem, input_symbols[elem])\n",
    "        return input"
   ]
  },
  {
   "cell_type": "code",
   "execution_count": 22,
   "metadata": {},
   "outputs": [],
   "source": [
    "input = \"e^(-x)/ln(x)\"    "
   ]
  },
  {
   "cell_type": "code",
   "execution_count": 23,
   "metadata": {},
   "outputs": [
    {
     "data": {
      "text/plain": [
       "'e^(-x)/Ln(x)'"
      ]
     },
     "execution_count": 23,
     "metadata": {},
     "output_type": "execute_result"
    }
   ],
   "source": [
    "convert_to_wolfram_expression(input)"
   ]
  },
  {
   "cell_type": "code",
   "execution_count": null,
   "metadata": {},
   "outputs": [],
   "source": []
  }
 ],
 "metadata": {
  "kernelspec": {
   "display_name": "Python 3",
   "language": "python",
   "name": "python3"
  },
  "language_info": {
   "codemirror_mode": {
    "name": "ipython",
    "version": 3
   },
   "file_extension": ".py",
   "mimetype": "text/x-python",
   "name": "python",
   "nbconvert_exporter": "python",
   "pygments_lexer": "ipython3",
   "version": "3.10.6"
  },
  "orig_nbformat": 4
 },
 "nbformat": 4,
 "nbformat_minor": 2
}
